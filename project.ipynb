{
 "cells": [
  {
   "cell_type": "code",
   "execution_count": 3,
   "metadata": {},
   "outputs": [],
   "source": [
    "import numpy as np\n",
    "import matplotlib.pyplot as plt"
   ]
  },
  {
   "cell_type": "markdown",
   "metadata": {},
   "source": [
    "# Requirement 1\n",
    "## Stochastic environment\n",
    "\n",
    "### Price : uniform distribution\n",
    "\n",
    "### Demand curve"
   ]
  },
  {
   "cell_type": "code",
   "execution_count": 19,
   "metadata": {},
   "outputs": [
    {
     "name": "stdout",
     "output_type": "stream",
     "text": [
      "Probability of purchase at price 15: 0.25\n",
      "2\n",
      "Sold? True\n"
     ]
    }
   ],
   "source": [
    "\n",
    "price = 10\n",
    "conversion_probability = lambda p: 1-p/20\n",
    "\n",
    "sold = np.random.binomial(1, conversion_probability(price))\n",
    "\n",
    "print(f'Probability of purchase at price {price}: {conversion_probability(price)}')\n",
    "\n",
    "# will the customer buy my product at this price?\n",
    "print(sold)\n",
    "print(f'Sold? {bool(sold)}')"
   ]
  },
  {
   "cell_type": "markdown",
   "metadata": {},
   "source": [
    "# Pricing Environment"
   ]
  },
  {
   "cell_type": "code",
   "execution_count": 1,
   "metadata": {},
   "outputs": [],
   "source": [
    "class PricingEnvironment:\n",
    "    def __init__(self, conversion_probability, cost):\n",
    "        self.conversion_probability = conversion_probability\n",
    "        self.cost = cost\n",
    "\n",
    "    def round(self, p_t, n_t):\n",
    "        d_t = np.random.binomial(n_t, self.conversion_probability(p_t))\n",
    "        r_t = (p_t - self.cost)*d_t\n",
    "        return d_t, r_t\n",
    "    "
   ]
  },
  {
   "cell_type": "code",
   "execution_count": 2,
   "metadata": {},
   "outputs": [
    {
     "ename": "NameError",
     "evalue": "name 'conversion_probability' is not defined",
     "output_type": "error",
     "traceback": [
      "\u001b[1;31m---------------------------------------------------------------------------\u001b[0m",
      "\u001b[1;31mNameError\u001b[0m                                 Traceback (most recent call last)",
      "\u001b[1;32m<ipython-input-2-876f99d24ce2>\u001b[0m in \u001b[0;36m<module>\u001b[1;34m\u001b[0m\n\u001b[1;32m----> 1\u001b[1;33m \u001b[0menv\u001b[0m \u001b[1;33m=\u001b[0m \u001b[0mPricingEnvironment\u001b[0m\u001b[1;33m(\u001b[0m\u001b[0mconversion_probability\u001b[0m\u001b[1;33m=\u001b[0m\u001b[0mconversion_probability\u001b[0m\u001b[1;33m,\u001b[0m \u001b[0mcost\u001b[0m\u001b[1;33m=\u001b[0m\u001b[1;36m5\u001b[0m\u001b[1;33m)\u001b[0m\u001b[1;33m\u001b[0m\u001b[1;33m\u001b[0m\u001b[0m\n\u001b[0m\u001b[0;32m      2\u001b[0m \u001b[0menv\u001b[0m\u001b[1;33m.\u001b[0m\u001b[0mround\u001b[0m\u001b[1;33m(\u001b[0m\u001b[1;36m10\u001b[0m\u001b[1;33m,\u001b[0m \u001b[1;36m100\u001b[0m\u001b[1;33m)\u001b[0m\u001b[1;33m\u001b[0m\u001b[1;33m\u001b[0m\u001b[0m\n",
      "\u001b[1;31mNameError\u001b[0m: name 'conversion_probability' is not defined"
     ]
    }
   ],
   "source": [
    "env = PricingEnvironment(conversion_probability=conversion_probability, cost=5)\n",
    "env.round(10, 100)"
   ]
  }
 ],
 "metadata": {
  "language_info": {
   "name": "python"
  }
 },
 "nbformat": 4,
 "nbformat_minor": 2
}
