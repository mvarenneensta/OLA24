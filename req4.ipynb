{
 "cells": [
  {
   "cell_type": "code",
   "execution_count": 1,
   "metadata": {},
   "outputs": [],
   "source": [
    "import numpy as np\n",
    "import matplotlib.pyplot as plt\n",
    "from reusable import Auction, MultiplicativePacingAgent, UCBLikeAgent, EXP3AgentPrimalDual\n",
    "\n"
   ]
  },
  {
   "cell_type": "markdown",
   "metadata": {},
   "source": [
    "# Requirement 4"
   ]
  },
  {
   "cell_type": "code",
   "execution_count": 2,
   "metadata": {},
   "outputs": [],
   "source": [
    "class FirstPriceAuction(Auction):\n",
    "    def __init__(self, ctrs):\n",
    "        self.ctrs = ctrs\n",
    "        self.n_adv = len(self.ctrs)\n",
    "    \n",
    "    def get_winners(self, bids):\n",
    "        # we compute the expected utility of each ad for the advertiser\n",
    "        adv_values = self.ctrs * bids\n",
    "\n",
    "        adv_ranking = np.argsort(adv_values)\n",
    "\n",
    "        winner = adv_ranking[-1]\n",
    "        return winner, adv_values\n",
    "    \n",
    "    def get_payments_per_click(self, winners, values, bids):\n",
    "        # In a first-price auction, the winner pays their bid amount\n",
    "        payment = bids[winners]\n",
    "        return round(payment, 2)"
   ]
  },
  {
   "cell_type": "code",
   "execution_count": 3,
   "metadata": {},
   "outputs": [
    {
     "ename": "AttributeError",
     "evalue": "'EXP3AgentPrimalDual' object has no attribute 'bid'",
     "output_type": "error",
     "traceback": [
      "\u001b[1;31m---------------------------------------------------------------------------\u001b[0m",
      "\u001b[1;31mAttributeError\u001b[0m                            Traceback (most recent call last)",
      "Cell \u001b[1;32mIn[3], line 44\u001b[0m\n\u001b[0;32m     41\u001b[0m budget \u001b[38;5;241m=\u001b[39m \u001b[38;5;241m1000\u001b[39m\n\u001b[0;32m     42\u001b[0m base_valuation \u001b[38;5;241m=\u001b[39m \u001b[38;5;241m1\u001b[39m\n\u001b[1;32m---> 44\u001b[0m rewards, cumulative_rewards, wins \u001b[38;5;241m=\u001b[39m \u001b[43mrun_simulation\u001b[49m\u001b[43m(\u001b[49m\u001b[43mn_advertisers\u001b[49m\u001b[43m,\u001b[49m\u001b[43m \u001b[49m\u001b[43mn_rounds\u001b[49m\u001b[43m,\u001b[49m\u001b[43m \u001b[49m\u001b[43mbudget\u001b[49m\u001b[43m,\u001b[49m\u001b[43m \u001b[49m\u001b[43mbase_valuation\u001b[49m\u001b[43m)\u001b[49m\n\u001b[0;32m     46\u001b[0m \u001b[38;5;66;03m# Plot results\u001b[39;00m\n\u001b[0;32m     47\u001b[0m plt\u001b[38;5;241m.\u001b[39mfigure(figsize\u001b[38;5;241m=\u001b[39m(\u001b[38;5;241m12\u001b[39m, \u001b[38;5;241m6\u001b[39m))\n",
      "Cell \u001b[1;32mIn[3], line 19\u001b[0m, in \u001b[0;36mrun_simulation\u001b[1;34m(n_advertisers, n_rounds, budget, base_valuation)\u001b[0m\n\u001b[0;32m     16\u001b[0m cumulative_rewards \u001b[38;5;241m=\u001b[39m {i: [\u001b[38;5;241m0\u001b[39m] \u001b[38;5;28;01mfor\u001b[39;00m i \u001b[38;5;129;01min\u001b[39;00m \u001b[38;5;28mrange\u001b[39m(n_advertisers)}\n\u001b[0;32m     18\u001b[0m \u001b[38;5;28;01mfor\u001b[39;00m \u001b[38;5;28mround\u001b[39m \u001b[38;5;129;01min\u001b[39;00m \u001b[38;5;28mrange\u001b[39m(n_rounds):\n\u001b[1;32m---> 19\u001b[0m     bids \u001b[38;5;241m=\u001b[39m \u001b[43m[\u001b[49m\u001b[43magent\u001b[49m\u001b[38;5;241;43m.\u001b[39;49m\u001b[43mbid\u001b[49m\u001b[43m(\u001b[49m\u001b[43m)\u001b[49m\u001b[43m \u001b[49m\u001b[38;5;28;43;01mfor\u001b[39;49;00m\u001b[43m \u001b[49m\u001b[43magent\u001b[49m\u001b[43m \u001b[49m\u001b[38;5;129;43;01min\u001b[39;49;00m\u001b[43m \u001b[49m\u001b[43magents\u001b[49m\u001b[43m]\u001b[49m\n\u001b[0;32m     21\u001b[0m     winner, values \u001b[38;5;241m=\u001b[39m auction\u001b[38;5;241m.\u001b[39mget_winners(bids)\n\u001b[0;32m     22\u001b[0m     payment \u001b[38;5;241m=\u001b[39m auction\u001b[38;5;241m.\u001b[39mget_payments_per_click(winner, values, bids)\n",
      "Cell \u001b[1;32mIn[3], line 19\u001b[0m, in \u001b[0;36m<listcomp>\u001b[1;34m(.0)\u001b[0m\n\u001b[0;32m     16\u001b[0m cumulative_rewards \u001b[38;5;241m=\u001b[39m {i: [\u001b[38;5;241m0\u001b[39m] \u001b[38;5;28;01mfor\u001b[39;00m i \u001b[38;5;129;01min\u001b[39;00m \u001b[38;5;28mrange\u001b[39m(n_advertisers)}\n\u001b[0;32m     18\u001b[0m \u001b[38;5;28;01mfor\u001b[39;00m \u001b[38;5;28mround\u001b[39m \u001b[38;5;129;01min\u001b[39;00m \u001b[38;5;28mrange\u001b[39m(n_rounds):\n\u001b[1;32m---> 19\u001b[0m     bids \u001b[38;5;241m=\u001b[39m [\u001b[43magent\u001b[49m\u001b[38;5;241;43m.\u001b[39;49m\u001b[43mbid\u001b[49m() \u001b[38;5;28;01mfor\u001b[39;00m agent \u001b[38;5;129;01min\u001b[39;00m agents]\n\u001b[0;32m     21\u001b[0m     winner, values \u001b[38;5;241m=\u001b[39m auction\u001b[38;5;241m.\u001b[39mget_winners(bids)\n\u001b[0;32m     22\u001b[0m     payment \u001b[38;5;241m=\u001b[39m auction\u001b[38;5;241m.\u001b[39mget_payments_per_click(winner, values, bids)\n",
      "\u001b[1;31mAttributeError\u001b[0m: 'EXP3AgentPrimalDual' object has no attribute 'bid'"
     ]
    }
   ],
   "source": [
    "def run_simulation(n_advertisers, n_rounds, budget, base_valuation):\n",
    "    ctrs = np.random.uniform(0.1, 1, n_advertisers)  # Random CTRs for each advertiser\n",
    "    auction = FirstPriceAuction(ctrs)\n",
    "    wins = [0 for i in range(n_advertisers)]\n",
    "    \n",
    "    agents = [\n",
    "        MultiplicativePacingAgent(valuation=base_valuation, budget=budget, T=n_rounds, eta=0.1),\n",
    "        MultiplicativePacingAgent(valuation=base_valuation, budget=budget, T=n_rounds, eta=0.1),\n",
    "        UCBLikeAgent(budget=budget, T=n_rounds, bids=np.linspace(0, base_valuation, 100)),\n",
    "        UCBLikeAgent(budget=budget, T=n_rounds, bids=np.linspace(0, base_valuation, 100)),\n",
    "        EXP3AgentPrimalDual(num_slots=10, num_prices=10, learning_rate=0.1),\n",
    "        EXP3AgentPrimalDual(num_slots=10, num_prices=10, learning_rate=0.1)\n",
    "    ]\n",
    "    \n",
    "    rewards = {i: [] for i in range(n_advertisers)}\n",
    "    cumulative_rewards = {i: [0] for i in range(n_advertisers)}\n",
    "\n",
    "    for round in range(n_rounds):\n",
    "        bids = [agent.bid() for agent in agents]\n",
    "        \n",
    "        winner, values = auction.get_winners(bids)\n",
    "        payment = auction.get_payments_per_click(winner, values, bids)\n",
    "        \n",
    "        for i, agent in enumerate(agents):\n",
    "            if i == winner:\n",
    "                wins[i] += 1\n",
    "                reward = ctrs[i] * (base_valuation - payment)\n",
    "                agent.update(reward, payment)\n",
    "                rewards[i].append(reward)\n",
    "                cumulative_rewards[i].append(cumulative_rewards[i][-1] + reward)\n",
    "            else:\n",
    "                agent.update(0, 0)\n",
    "                rewards[i].append(0)\n",
    "                cumulative_rewards[i].append(cumulative_rewards[i][-1])\n",
    "\n",
    "    return rewards, cumulative_rewards, wins\n",
    "\n",
    "# Run the simulation\n",
    "n_advertisers = 5\n",
    "n_rounds = 10000\n",
    "budget = 1000\n",
    "base_valuation = 1\n",
    "\n",
    "rewards, cumulative_rewards, wins = run_simulation(n_advertisers, n_rounds, budget, base_valuation)\n",
    "\n",
    "# Plot results\n",
    "plt.figure(figsize=(12, 6))\n",
    "for i in range(len(cumulative_rewards)):\n",
    "    plt.plot(cumulative_rewards[i], label=f'Agent {i}')\n",
    "\n",
    "plt.title('Cumulative Reward over Time (First Price Auction)')\n",
    "plt.xlabel('Rounds')\n",
    "plt.ylabel('Cumulative Reward')\n",
    "plt.legend()\n",
    "plt.show()"
   ]
  },
  {
   "cell_type": "code",
   "execution_count": null,
   "metadata": {},
   "outputs": [
    {
     "name": "stdout",
     "output_type": "stream",
     "text": [
      "Agent Results:\n",
      "Agent\tWins\tCumulative Utility\n",
      "-----\t----\t------------------\n",
      "0\t2193\t186.69\n",
      "1\t7395\t3760.90\n",
      "2\t19\t-452.10\n",
      "3\t14\t-181.92\n",
      "4\t379\t-425.37\n",
      "\n",
      "Total wins: 10000\n",
      "\n",
      "Win Percentages:\n",
      "Agent 0: 21.93%\n",
      "Agent 1: 73.95%\n",
      "Agent 2: 0.19%\n",
      "Agent 3: 0.14%\n",
      "Agent 4: 3.79%\n"
     ]
    }
   ],
   "source": [
    "# Print number of wins and cumulative utilities for each agent\n",
    "print(\"Agent Results:\")\n",
    "print(\"Agent\\tWins\\tCumulative Utility\")\n",
    "print(\"-----\\t----\\t------------------\")\n",
    "for i in range(n_advertisers):\n",
    "    print(f\"{i}\\t{wins[i]}\\t{cumulative_rewards[i][-1]:.2f}\")\n",
    "\n",
    "# Print total wins\n",
    "total_wins = sum(wins)\n",
    "print(f\"\\nTotal wins: {total_wins}\")\n",
    "\n",
    "# Print win percentages\n",
    "print(\"\\nWin Percentages:\")\n",
    "for i in range(n_advertisers):\n",
    "    win_percentage = (wins[i] / total_wins) * 100\n",
    "    print(f\"Agent {i}: {win_percentage:.2f}%\")"
   ]
  }
 ],
 "metadata": {
  "kernelspec": {
   "display_name": "Python 3",
   "language": "python",
   "name": "python3"
  },
  "language_info": {
   "codemirror_mode": {
    "name": "ipython",
    "version": 3
   },
   "file_extension": ".py",
   "mimetype": "text/x-python",
   "name": "python",
   "nbconvert_exporter": "python",
   "pygments_lexer": "ipython3",
   "version": "3.11.9"
  }
 },
 "nbformat": 4,
 "nbformat_minor": 2
}
